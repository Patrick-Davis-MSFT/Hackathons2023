{
  "cells": [
    {
      "cell_type": "markdown",
      "source": [
        "# CLIP Embedding GenerationThis notebook demonstrates how to use OpenAI's CLIP model to generate an embedding from an image specified by a local file path. The notebook runs on CPU and is compatible with Azure Machine Learning on a Linux VM."
      ],
      "metadata": {}
    },
    {
      "cell_type": "code",
      "source": [
        "# Install required libraries\n",
        "!pip install -r requirements_embeddings.txt"
      ],
      "outputs": [],
      "execution_count": null,
      "metadata": {
        "gather": {
          "logged": 1747843713111
        }
      }
    },
    {
      "cell_type": "code",
      "source": [
        "!pip install ftfy regex tqdm"
      ],
      "outputs": [],
      "execution_count": null,
      "metadata": {}
    },
    {
      "cell_type": "code",
      "source": [
        "!pip install git+https://github.com/openai/CLIP.git"
      ],
      "outputs": [],
      "execution_count": null,
      "metadata": {}
    },
    {
      "cell_type": "code",
      "source": [
        "import torch\n",
        "import clip\n",
        "from PIL import Image\n",
        "import os\n",
        "# Check if CUDA is available and set the device to CPU\n",
        "device = \"cpu\"\n",
        "# Load the CLIP model\n",
        "model, preprocess = clip.load(\"ViT-B/32\", device=device)\n",
        "# Specify the local file path of the image\n",
        "image_path = \"./IMAGE_NAME.jpg\"\n",
        "# Load and preprocess the image\n",
        "image = preprocess(Image.open(image_path)).unsqueeze(0).to(device)\n",
        "# Generate the embedding\n",
        "with torch.no_grad():\n",
        "   embedding = model.encode_image(image)\n",
        "   # Print the embedding\n",
        "   print(\"Embedding: \", embedding.cpu().numpy())"
      ],
      "outputs": [],
      "execution_count": null,
      "metadata": {
        "gather": {
          "logged": 1747844062899
        }
      }
    }
  ],
  "metadata": {
    "kernelspec": {
      "name": "python38-azureml",
      "language": "python",
      "display_name": "Python 3.10 - AzureML"
    },
    "language_info": {
      "name": "python",
      "version": "3.10.11",
      "mimetype": "text/x-python",
      "codemirror_mode": {
        "name": "ipython",
        "version": 3
      },
      "pygments_lexer": "ipython3",
      "nbconvert_exporter": "python",
      "file_extension": ".py"
    },
    "microsoft": {
      "ms_spell_check": {
        "ms_spell_check_language": "en"
      }
    },
    "kernel_info": {
      "name": "python38-azureml"
    },
    "nteract": {
      "version": "nteract-front-end@1.0.0"
    }
  },
  "nbformat": 4,
  "nbformat_minor": 2
}
