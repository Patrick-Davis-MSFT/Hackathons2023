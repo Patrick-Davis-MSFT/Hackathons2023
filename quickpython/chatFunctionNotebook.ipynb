{
 "cells": [
  {
   "cell_type": "code",
   "execution_count": null,
   "metadata": {},
   "outputs": [],
   "source": [
    "#setup the environment\n",
    "import os\n",
    "import json\n",
    "from openai import AzureOpenAI\n",
    "from azure.core.exceptions import AzureError\n",
    "import sys\n",
    "import requests\n",
    "\n",
    "apiKey = input(\"Enter your Azure OpenAI API Key: \")\n",
    "apiEndpoint = input(\"Enter your Azure OpenAI API Endpoint: \")\n",
    "model = input(\"Enter your model deployment name: \")\n",
    "useFunction = True\n",
    "\n",
    "client = AzureOpenAI(\n",
    "    api_key = apiKey,  \n",
    "    api_version = \"2023-12-01-preview\",\n",
    "    azure_endpoint = apiEndpoint\n",
    ")\n",
    "\n"
   ]
  },
  {
   "cell_type": "code",
   "execution_count": 117,
   "metadata": {},
   "outputs": [],
   "source": [
    "def get_current_weather(obj={}):\n",
    "    location = obj.get('location')\n",
    "    try:\n",
    "        unit = obj.get('unit')\n",
    "    except:\n",
    "        unit = \"Fahrenheit\"\n",
    "    \"\"\"Get the current weather in a given location\"\"\"\n",
    "    if \"tokyo\" in location.lower():\n",
    "        return json.dumps({\"location\": \"Tokyo\", \"temperature\": \"10\", \"unit\": unit})\n",
    "    elif \"san francisco\" in location.lower():\n",
    "        return json.dumps({\"location\": \"San Francisco\", \"temperature\": \"72\", \"unit\": unit})\n",
    "    elif \"paris\" in location.lower():\n",
    "        return json.dumps({\"location\": \"Paris\", \"temperature\": \"22\", \"unit\": unit})\n",
    "    else:\n",
    "        return json.dumps({\"location\": location, \"temperature\": \"unknown\"})"
   ]
  },
  {
   "cell_type": "code",
   "execution_count": 118,
   "metadata": {},
   "outputs": [
    {
     "name": "stdout",
     "output_type": "stream",
     "text": [
      "### get_lat_long_weather ###\n",
      "LWX\n",
      "91\n",
      "68\n",
      "{\"latitude\": \"38.8304\", \"longitude\": \"-77.1964\", \"temperature\": 55, \"unit\": \"fahrenheit\", \"detailedForecast\": \"Sunny, with a high near 55. Northwest wind 22 to 25 mph, with gusts as high as 47 mph.\", \"name\": \"Today\"}\n"
     ]
    }
   ],
   "source": [
    "\n",
    "def get_lat_long_weather(obj={}):\n",
    "    latitude = str(obj.get('latitude'))\n",
    "    longitude = str(obj.get('longitude'))\n",
    "    response = requests.get(f'https://api.weather.gov/points/{latitude},{longitude}')\n",
    "    #response = requests.get('https://api.weather.gov/points/38.8304,-77.1964')\n",
    "    unit=\"fahrenheit\"\n",
    "    if response.status_code == 200:\n",
    "         # Parse the response as JSON\n",
    "        data = response.json()\n",
    "        #print(data)\n",
    "        office = data.get(\"properties\",{}).get(\"gridId\")\n",
    "        gridx = data.get(\"properties\",{}).get(\"gridX\")\n",
    "        gridy = data.get(\"properties\",{}).get(\"gridY\")\n",
    "\n",
    "        print(office)\n",
    "        print(gridx)\n",
    "        print(gridy)\n",
    "        # Make a request to the /gridpoints/{office}/{gridX},{gridY}/forecast endpoint\n",
    "        response = requests.get(f'https://api.weather.gov/gridpoints/{office}/{gridx},{gridy}/forecast')\n",
    "        if response.status_code == 200:\n",
    "            # Parse the response as JSON\n",
    "            data = response.json()\n",
    "            #print(data)\n",
    "            # Get the current temperature\n",
    "            temperature = data.get(\"properties\",{}).get(\"periods\", [])[0].get(\"temperature\")\n",
    "            detailedForecast = data.get(\"properties\",{}).get(\"periods\", [])[0].get(\"detailedForecast\")\n",
    "            name = data.get(\"properties\",{}).get(\"periods\", [])[0].get(\"name\")\n",
    "            #print(temperature)\n",
    "            # Return the temperature\n",
    "            return json.dumps({\"latitude\": latitude, \"longitude\": longitude, \n",
    "                               \"temperature\": temperature, \"unit\": unit, \n",
    "                               \"detailedForecast\": detailedForecast,\"name\": name })\n",
    "        else:\n",
    "            print(f\"Request failed with status code step 2 {response.status_code}\")\n",
    "\n",
    "    else:\n",
    "        print(f\"Request failed with status code step 1 {response.status_code}\")\n",
    "\n",
    "\n",
    "print(\"### get_lat_long_weather ###\")\n",
    "print( get_lat_long_weather( {'latitude':38.8304, 'longitude':-77.1964} ))"
   ]
  },
  {
   "cell_type": "code",
   "execution_count": 119,
   "metadata": {},
   "outputs": [
    {
     "name": "stdout",
     "output_type": "stream",
     "text": [
      "Azure OpenAI client created and system prompt loaded.\n",
      "Function and tools defined\n"
     ]
    }
   ],
   "source": [
    "\n",
    "    \n",
    "tools = [\n",
    "    {\n",
    "        \"type\": \"function\",\n",
    "        \"function\": {\n",
    "            \"name\": \"get_current_weather\",\n",
    "            \"description\": \"Get the current weather for only Tokyo, San Francisco, and Paris.\",\n",
    "            \"parameters\": {\n",
    "                \"type\": \"object\",\n",
    "                \"properties\": {\n",
    "                    \"location\": {\n",
    "                        \"type\": \"string\",\n",
    "                        \"description\": \"The city and state, e.g. San Francisco, CA\",\n",
    "                    },\n",
    "                    \"unit\": {\"type\": \"string\", \"enum\": [\"celsius\", \"fahrenheit\"]},\n",
    "                },\n",
    "                \"required\": [\"location\"],\n",
    "            },\n",
    "        },\n",
    "    },\n",
    "    {\n",
    "        \"type\": \"function\",\n",
    "        \"function\": {\n",
    "            \"name\": \"get_lat_long_weather\",\n",
    "            \"description\": \"Get the current weather All other locations given a latitude and longitude in fahrenheit.\",\n",
    "            \"parameters\": {\n",
    "                \"type\": \"object\",\n",
    "                \"properties\": {\n",
    "                    \"latitude\": {\n",
    "                        \"type\": \"number\",\n",
    "                        \"description\": \"The latitude of the location\",\n",
    "                    },\n",
    "                    \"longitude\": {\n",
    "                        \"type\": \"number\",\n",
    "                        \"description\": \"The longitude of the location\",\n",
    "                    },\n",
    "                },\n",
    "                \"required\": [\"latitude\", \"longitude\"],\n",
    "            },\n",
    "        },\n",
    "    }\n",
    "]\n",
    "\n",
    "available_functions = {\n",
    "                \"get_current_weather\": get_current_weather,\n",
    "                \"get_lat_long_weather\": get_lat_long_weather,\n",
    "                } \n",
    "\n",
    "\n",
    "#System Prompt\n",
    "messages = [{\"role\": \"system\", \"content\": \"Your name is Azure Andy and you are an assistant that is a large language model trained by OpenAI running on Azure.\"}]\n",
    "print(\"Azure OpenAI client created and system prompt loaded.\")\n",
    "\n",
    "\n",
    "print(\"Function and tools defined\")"
   ]
  },
  {
   "cell_type": "code",
   "execution_count": 120,
   "metadata": {},
   "outputs": [
    {
     "name": "stdout",
     "output_type": "stream",
     "text": [
      "[{'role': 'system', 'content': 'Your name is Azure Andy and you are an assistant that is a large language model trained by OpenAI running on Azure.'}, {'role': 'user', 'content': 'What is the temperature in Annandale VA?'}]\n"
     ]
    }
   ],
   "source": [
    "#Example Questions\n",
    "#Who are you?\n",
    "#What is the temperature in paris?\n",
    "#What is the temperature in Washington DC?\n",
    "message = input(\"Your question: \")\n",
    "messages.append({\"role\": \"user\", \"content\": message})\n",
    "\n",
    "print(messages)"
   ]
  },
  {
   "cell_type": "code",
   "execution_count": 125,
   "metadata": {},
   "outputs": [
    {
     "name": "stdout",
     "output_type": "stream",
     "text": [
      "Starting Messages:\n",
      "[{'role': 'system', 'content': 'Your name is Azure Andy and you are an assistant that is a large language model trained by OpenAI running on Azure.'}, {'role': 'user', 'content': 'What is the temperature in Annandale VA?'}, {'content': None, 'role': 'assistant', 'tool_calls': [ChatCompletionMessageToolCall(id='call_azqSw4SuY3FXyxOZGBzPqWCi', function=Function(arguments='{\"latitude\":38.8304,\"longitude\":-77.1964}', name='get_lat_long_weather'), type='function')]}, {'tool_call_id': 'call_azqSw4SuY3FXyxOZGBzPqWCi', 'role': 'tool', 'name': 'get_lat_long_weather', 'content': '{\"latitude\": \"38.8304\", \"longitude\": \"-77.1964\", \"temperature\": 55, \"unit\": \"fahrenheit\", \"detailedForecast\": \"Sunny, with a high near 55. Northwest wind 22 to 25 mph, with gusts as high as 47 mph.\", \"name\": \"Today\"}'}]\n",
      "\n",
      "\n",
      "###########Full Response###########\n",
      "ChatCompletion(id='chatcmpl-91cCyRxDhJKBTxnliPwnUVbzNVV1U', choices=[Choice(finish_reason='stop', index=0, logprobs=None, message=ChatCompletionMessage(content='The current temperature in Annandale, VA is 55 degrees Fahrenheit. The weather is sunny, with a high near 55. There is a northwest wind blowing at 22 to 25 mph, with gusts as high as 47 mph.', role='assistant', function_call=None, tool_calls=None), content_filter_results={'hate': {'filtered': False, 'severity': 'safe'}, 'self_harm': {'filtered': False, 'severity': 'safe'}, 'sexual': {'filtered': False, 'severity': 'safe'}, 'violence': {'filtered': False, 'severity': 'safe'}})], created=1710172228, model='gpt-4', object='chat.completion', system_fingerprint='fp_8abb16fa4e', usage=CompletionUsage(completion_tokens=52, prompt_tokens=273, total_tokens=325), prompt_filter_results=[{'prompt_index': 0, 'content_filter_results': {'hate': {'filtered': False, 'severity': 'safe'}, 'self_harm': {'filtered': False, 'severity': 'safe'}, 'sexual': {'filtered': False, 'severity': 'safe'}, 'violence': {'filtered': False, 'severity': 'safe'}}}])\n",
      "\n",
      "\n",
      "###########Response to User###########\n",
      "The current temperature in Annandale, VA is 55 degrees Fahrenheit. The weather is sunny, with a high near 55. There is a northwest wind blowing at 22 to 25 mph, with gusts as high as 47 mph.\n",
      "\n",
      "tools:\n",
      "None\n",
      "##############################\n",
      "\n",
      "\n",
      "###########Ending Messages###########\n",
      "[{'role': 'system', 'content': 'Your name is Azure Andy and you are an assistant that is a large language model trained by OpenAI running on Azure.'}, {'role': 'user', 'content': 'What is the temperature in Annandale VA?'}, {'content': None, 'role': 'assistant', 'tool_calls': [ChatCompletionMessageToolCall(id='call_azqSw4SuY3FXyxOZGBzPqWCi', function=Function(arguments='{\"latitude\":38.8304,\"longitude\":-77.1964}', name='get_lat_long_weather'), type='function')]}, {'tool_call_id': 'call_azqSw4SuY3FXyxOZGBzPqWCi', 'role': 'tool', 'name': 'get_lat_long_weather', 'content': '{\"latitude\": \"38.8304\", \"longitude\": \"-77.1964\", \"temperature\": 55, \"unit\": \"fahrenheit\", \"detailedForecast\": \"Sunny, with a high near 55. Northwest wind 22 to 25 mph, with gusts as high as 47 mph.\", \"name\": \"Today\"}'}, {'content': 'The current temperature in Annandale, VA is 55 degrees Fahrenheit. The weather is sunny, with a high near 55. There is a northwest wind blowing at 22 to 25 mph, with gusts as high as 47 mph.', 'role': 'assistant'}]\n"
     ]
    }
   ],
   "source": [
    "print(\"Starting Messages:\")\n",
    "print(messages)\n",
    "response = client.chat.completions.create(\n",
    "                model=model, \n",
    "                messages=messages,\n",
    "                tools=tools,\n",
    "                tool_choice=\"auto\",\n",
    "            )\n",
    "\n",
    "print(\"\\n\\n###########Full Response###########\")\n",
    "print(response)\n",
    "print(\"\\n\\n###########Response to User###########\")\n",
    "print(response.choices[0].message.content)\n",
    "print(\"\\ntools:\")\n",
    "print(response.choices[0].message.tool_calls)\n",
    "print(\"##############################\")\n",
    "#print(\"\\n\\n###########Filter###########\")\n",
    "#print(json.dumps(response.choices[0].content_filter_results, indent=4))\n",
    "#print(\"############################\")\n",
    "\n",
    "\n",
    "if (response.choices[0].message.tool_calls):\n",
    "    messages.append({\"content\": response.choices[0].message.content,\n",
    "                \"role\": response.choices[0].message.role,\n",
    "                \"tool_calls\":response.choices[0].message.tool_calls\n",
    "                })\n",
    "else:\n",
    "        messages.append({\"content\": response.choices[0].message.content,\n",
    "                \"role\": response.choices[0].message.role })\n",
    "\n",
    "print(\"\\n\\n###########Ending Messages###########\")\n",
    "print(messages)"
   ]
  },
  {
   "cell_type": "code",
   "execution_count": 122,
   "metadata": {},
   "outputs": [
    {
     "name": "stdout",
     "output_type": "stream",
     "text": [
      "###########Tool Calls###########\n",
      "[ChatCompletionMessageToolCall(id='call_azqSw4SuY3FXyxOZGBzPqWCi', function=Function(arguments='{\"latitude\":38.8304,\"longitude\":-77.1964}', name='get_lat_long_weather'), type='function')]\n"
     ]
    }
   ],
   "source": [
    "tool_calls = response.choices[0].message.tool_calls\n",
    "\n",
    "print(\"###########Tool Calls###########\")\n",
    "print(tool_calls)"
   ]
  },
  {
   "cell_type": "code",
   "execution_count": 123,
   "metadata": {},
   "outputs": [
    {
     "name": "stdout",
     "output_type": "stream",
     "text": [
      "LWX\n",
      "91\n",
      "68\n",
      "\n",
      "\n",
      "###########Function Response###########\n",
      "\"{\\\"latitude\\\": \\\"38.8304\\\", \\\"longitude\\\": \\\"-77.1964\\\", \\\"temperature\\\": 55, \\\"unit\\\": \\\"fahrenheit\\\", \\\"detailedForecast\\\": \\\"Sunny, with a high near 55. Northwest wind 22 to 25 mph, with gusts as high as 47 mph.\\\", \\\"name\\\": \\\"Today\\\"}\"\n"
     ]
    }
   ],
   "source": [
    "# Select the tool to use\n",
    "toolItr = 0\n",
    "#toolItr = input(\"Enter the tool index to use: \")\n",
    "\n",
    "tool_call = tool_calls[toolItr]\n",
    "\n",
    "\n",
    "# Call the function\n",
    "function_name  = tool_call.function.name\n",
    "function_to_call = available_functions[function_name]\n",
    "function_args  = json.loads(tool_call.function.arguments)\n",
    "function_response = function_to_call(obj=function_args)\n",
    "\n",
    "print(\"\\n\\n###########Function Response###########\")\n",
    "print(json.dumps(function_response, indent=4))\n",
    "\n"
   ]
  },
  {
   "cell_type": "code",
   "execution_count": 124,
   "metadata": {},
   "outputs": [
    {
     "name": "stdout",
     "output_type": "stream",
     "text": [
      "\n",
      "\n",
      "###########Ending Messages###########\n",
      "[{'role': 'system', 'content': 'Your name is Azure Andy and you are an assistant that is a large language model trained by OpenAI running on Azure.'}, {'role': 'user', 'content': 'What is the temperature in Annandale VA?'}, {'content': None, 'role': 'assistant', 'tool_calls': [ChatCompletionMessageToolCall(id='call_azqSw4SuY3FXyxOZGBzPqWCi', function=Function(arguments='{\"latitude\":38.8304,\"longitude\":-77.1964}', name='get_lat_long_weather'), type='function')]}, {'tool_call_id': 'call_azqSw4SuY3FXyxOZGBzPqWCi', 'role': 'tool', 'name': 'get_lat_long_weather', 'content': '{\"latitude\": \"38.8304\", \"longitude\": \"-77.1964\", \"temperature\": 55, \"unit\": \"fahrenheit\", \"detailedForecast\": \"Sunny, with a high near 55. Northwest wind 22 to 25 mph, with gusts as high as 47 mph.\", \"name\": \"Today\"}'}]\n"
     ]
    }
   ],
   "source": [
    "#Append the function response to the messages\n",
    "\n",
    "messages.append(\n",
    "                    {\n",
    "                        \"tool_call_id\": tool_call.id,\n",
    "                        \"role\": \"tool\",\n",
    "                        \"name\": function_name,\n",
    "                        \"content\": function_response,\n",
    "                    }\n",
    "                )\n",
    "\n",
    "print(\"\\n\\n###########Ending Messages###########\")\n",
    "print(messages)"
   ]
  }
 ],
 "metadata": {
  "kernelspec": {
   "display_name": "Python 3",
   "language": "python",
   "name": "python3"
  },
  "language_info": {
   "codemirror_mode": {
    "name": "ipython",
    "version": 3
   },
   "file_extension": ".py",
   "mimetype": "text/x-python",
   "name": "python",
   "nbconvert_exporter": "python",
   "pygments_lexer": "ipython3",
   "version": "3.12.0"
  }
 },
 "nbformat": 4,
 "nbformat_minor": 2
}
